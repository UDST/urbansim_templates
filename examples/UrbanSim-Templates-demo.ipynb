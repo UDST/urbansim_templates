{
 "cells": [
  {
   "cell_type": "markdown",
   "id": "mature-episode",
   "metadata": {},
   "source": [
    "# UrbanSim Templates demo\n",
    "\n",
    "Sam Maurer, Feb 2021\n",
    "\n",
    "### Background\n",
    "\n",
    "[UrbanSim](https://github.com/udst/urbansim) is a platform for modeling land use in cities. It runs in Python and uses the [Orca](https://github.com/udst/orca) task orchestration system. \n",
    "\n",
    "Orca breaks a model into \"steps\", Python functions that can be assembled on the fly into linear or cyclical pipelines. Orca is designed for workflows like city simulation where the data representing a model's state is so large that it needs to be managed outside the task graph. Steps refer to tables and columns of data by name rather than passing the data directly.\n",
    "\n",
    "UrbanSim [Templates](https://github.com/udst/urbansim_templates) is a library that provides automated building blocks for Orca-based models. The templates were developed to reduce the need for custom code and improve the portability of model steps.\n",
    "\n",
    "Currently we have templates for (a) regression, (b) binary Logit, (c) multinomial Logit estimated with [PyLogit](https://github.com/timothyb0912/pylogit) (best choice for flexible utility expressions), and (d) multinomial Logit estimated with [ChoiceModels](https://github.com/udst/choicemodels) (best choice for sampling of interchangeable alternatives).\n",
    "\n",
    "### Documentation\n",
    "\n",
    "Full UrbanSim Templates documentation: https://udst.github.io/urbansim_templates/\n",
    "\n",
    "### Installation\n",
    "\n",
    "You can install `orca` and `urbansim_templates` from Pip or Conda Forge."
   ]
  },
  {
   "cell_type": "code",
   "execution_count": 1,
   "id": "natural-frequency",
   "metadata": {},
   "outputs": [
    {
     "name": "stdout",
     "output_type": "stream",
     "text": [
      "1.2.1\n"
     ]
    }
   ],
   "source": [
    "import pandas as pd\n",
    "\n",
    "print(pd.__version__)"
   ]
  },
  {
   "cell_type": "code",
   "execution_count": 2,
   "id": "lyric-gardening",
   "metadata": {},
   "outputs": [
    {
     "name": "stdout",
     "output_type": "stream",
     "text": [
      "1.5.4\n"
     ]
    }
   ],
   "source": [
    "import orca\n",
    "\n",
    "print(orca.__version__)"
   ]
  },
  {
   "cell_type": "code",
   "execution_count": 3,
   "id": "featured-return",
   "metadata": {},
   "outputs": [
    {
     "name": "stdout",
     "output_type": "stream",
     "text": [
      "0.2.dev9\n"
     ]
    }
   ],
   "source": [
    "import urbansim_templates\n",
    "\n",
    "print(urbansim_templates.__version__)"
   ]
  },
  {
   "cell_type": "code",
   "execution_count": 4,
   "id": "floppy-brunei",
   "metadata": {},
   "outputs": [],
   "source": [
    "# Making the notebook output clearer\n",
    "import warnings\n",
    "warnings.simplefilter(action='ignore', category=FutureWarning)"
   ]
  },
  {
   "cell_type": "code",
   "execution_count": null,
   "id": "worst-thong",
   "metadata": {},
   "outputs": [],
   "source": []
  },
  {
   "cell_type": "markdown",
   "id": "sporting-orange",
   "metadata": {},
   "source": [
    "### Setting up ModelManager\n",
    "\n",
    "[ModelManager](https://udst.github.io/urbansim_templates/modelmanager.html) is part of the Templates library. It's an extension to Orca for saving and loading template-based model steps. \n",
    "\n",
    "By default it will look for a folder named `configs` in your current working directory, where it will read and save yaml representations of model steps. If there are already model steps there, the corresponding template classes need to be loaded before initializing ModelManager."
   ]
  },
  {
   "cell_type": "code",
   "execution_count": 5,
   "id": "coupled-turning",
   "metadata": {},
   "outputs": [
    {
     "name": "stdout",
     "output_type": "stream",
     "text": [
      "No yaml files found in path 'configs'\n"
     ]
    }
   ],
   "source": [
    "from urbansim_templates.models import OLSRegressionStep\n",
    "from urbansim_templates import modelmanager\n",
    "\n",
    "modelmanager.initialize()"
   ]
  },
  {
   "cell_type": "code",
   "execution_count": null,
   "id": "structured-potential",
   "metadata": {},
   "outputs": [],
   "source": []
  },
  {
   "cell_type": "markdown",
   "id": "abandoned-somalia",
   "metadata": {},
   "source": [
    "### Setting up data\n",
    "\n",
    "We'll load a DataFrame and register it with Orca, so that our statistical models can refer to it."
   ]
  },
  {
   "cell_type": "code",
   "execution_count": 6,
   "id": "cheap-darkness",
   "metadata": {},
   "outputs": [
    {
     "data": {
      "text/plain": [
       "482"
      ]
     },
     "execution_count": 6,
     "metadata": {},
     "output_type": "execute_result"
    }
   ],
   "source": [
    "df = pd.read_csv('data/buildings-demo.csv').dropna()\n",
    "len(df)"
   ]
  },
  {
   "cell_type": "code",
   "execution_count": 7,
   "id": "impossible-dressing",
   "metadata": {},
   "outputs": [
    {
     "data": {
      "text/plain": [
       "<orca.orca.DataFrameWrapper at 0x7f8cb8e1d670>"
      ]
     },
     "execution_count": 7,
     "metadata": {},
     "output_type": "execute_result"
    }
   ],
   "source": [
    "orca.add_table('buildings', df)"
   ]
  },
  {
   "cell_type": "code",
   "execution_count": 8,
   "id": "balanced-chair",
   "metadata": {},
   "outputs": [
    {
     "data": {
      "text/html": [
       "<div>\n",
       "<style scoped>\n",
       "    .dataframe tbody tr th:only-of-type {\n",
       "        vertical-align: middle;\n",
       "    }\n",
       "\n",
       "    .dataframe tbody tr th {\n",
       "        vertical-align: top;\n",
       "    }\n",
       "\n",
       "    .dataframe thead th {\n",
       "        text-align: right;\n",
       "    }\n",
       "</style>\n",
       "<table border=\"1\" class=\"dataframe\">\n",
       "  <thead>\n",
       "    <tr style=\"text-align: right;\">\n",
       "      <th></th>\n",
       "      <th>building_id</th>\n",
       "      <th>parcel_id</th>\n",
       "      <th>development_type_id</th>\n",
       "      <th>improvement_value</th>\n",
       "      <th>residential_units</th>\n",
       "      <th>residential_sqft</th>\n",
       "      <th>sqft_per_unit</th>\n",
       "      <th>non_residential_sqft</th>\n",
       "      <th>building_sqft</th>\n",
       "      <th>res_price_per_sqft</th>\n",
       "      <th>stories</th>\n",
       "      <th>year_built</th>\n",
       "      <th>sale_price</th>\n",
       "      <th>sale_year</th>\n",
       "      <th>building_type_id</th>\n",
       "    </tr>\n",
       "  </thead>\n",
       "  <tbody>\n",
       "    <tr>\n",
       "      <th>3</th>\n",
       "      <td>7</td>\n",
       "      <td>328712</td>\n",
       "      <td>1</td>\n",
       "      <td>0.0</td>\n",
       "      <td>1</td>\n",
       "      <td>1393</td>\n",
       "      <td>1393.0</td>\n",
       "      <td>0</td>\n",
       "      <td>0.0</td>\n",
       "      <td>0.000000</td>\n",
       "      <td>1</td>\n",
       "      <td>2008</td>\n",
       "      <td>670250.0</td>\n",
       "      <td>2008.0</td>\n",
       "      <td>1</td>\n",
       "    </tr>\n",
       "    <tr>\n",
       "      <th>4</th>\n",
       "      <td>9</td>\n",
       "      <td>742661</td>\n",
       "      <td>1</td>\n",
       "      <td>116580.0</td>\n",
       "      <td>1</td>\n",
       "      <td>1018</td>\n",
       "      <td>1018.0</td>\n",
       "      <td>0</td>\n",
       "      <td>1018.0</td>\n",
       "      <td>474.350534</td>\n",
       "      <td>1</td>\n",
       "      <td>1946</td>\n",
       "      <td>703000.0</td>\n",
       "      <td>2007.0</td>\n",
       "      <td>1</td>\n",
       "    </tr>\n",
       "    <tr>\n",
       "      <th>6</th>\n",
       "      <td>11</td>\n",
       "      <td>716626</td>\n",
       "      <td>1</td>\n",
       "      <td>457526.0</td>\n",
       "      <td>1</td>\n",
       "      <td>3693</td>\n",
       "      <td>3693.0</td>\n",
       "      <td>0</td>\n",
       "      <td>3693.0</td>\n",
       "      <td>124.824432</td>\n",
       "      <td>1</td>\n",
       "      <td>1998</td>\n",
       "      <td>95000.0</td>\n",
       "      <td>1996.0</td>\n",
       "      <td>1</td>\n",
       "    </tr>\n",
       "    <tr>\n",
       "      <th>10</th>\n",
       "      <td>15</td>\n",
       "      <td>742822</td>\n",
       "      <td>1</td>\n",
       "      <td>95050.0</td>\n",
       "      <td>1</td>\n",
       "      <td>1106</td>\n",
       "      <td>1106.0</td>\n",
       "      <td>0</td>\n",
       "      <td>1106.0</td>\n",
       "      <td>448.074261</td>\n",
       "      <td>1</td>\n",
       "      <td>1957</td>\n",
       "      <td>675000.0</td>\n",
       "      <td>2005.0</td>\n",
       "      <td>1</td>\n",
       "    </tr>\n",
       "    <tr>\n",
       "      <th>13</th>\n",
       "      <td>18</td>\n",
       "      <td>743444</td>\n",
       "      <td>1</td>\n",
       "      <td>166000.0</td>\n",
       "      <td>1</td>\n",
       "      <td>1354</td>\n",
       "      <td>1354.0</td>\n",
       "      <td>0</td>\n",
       "      <td>1354.0</td>\n",
       "      <td>411.506401</td>\n",
       "      <td>1</td>\n",
       "      <td>1951</td>\n",
       "      <td>18500.0</td>\n",
       "      <td>2006.0</td>\n",
       "      <td>1</td>\n",
       "    </tr>\n",
       "  </tbody>\n",
       "</table>\n",
       "</div>"
      ],
      "text/plain": [
       "    building_id  parcel_id  development_type_id  improvement_value  \\\n",
       "3             7     328712                    1                0.0   \n",
       "4             9     742661                    1           116580.0   \n",
       "6            11     716626                    1           457526.0   \n",
       "10           15     742822                    1            95050.0   \n",
       "13           18     743444                    1           166000.0   \n",
       "\n",
       "    residential_units  residential_sqft  sqft_per_unit  non_residential_sqft  \\\n",
       "3                   1              1393         1393.0                     0   \n",
       "4                   1              1018         1018.0                     0   \n",
       "6                   1              3693         3693.0                     0   \n",
       "10                  1              1106         1106.0                     0   \n",
       "13                  1              1354         1354.0                     0   \n",
       "\n",
       "    building_sqft  res_price_per_sqft  stories  year_built  sale_price  \\\n",
       "3             0.0            0.000000        1        2008    670250.0   \n",
       "4          1018.0          474.350534        1        1946    703000.0   \n",
       "6          3693.0          124.824432        1        1998     95000.0   \n",
       "10         1106.0          448.074261        1        1957    675000.0   \n",
       "13         1354.0          411.506401        1        1951     18500.0   \n",
       "\n",
       "    sale_year  building_type_id  \n",
       "3      2008.0                 1  \n",
       "4      2007.0                 1  \n",
       "6      1996.0                 1  \n",
       "10     2005.0                 1  \n",
       "13     2006.0                 1  "
      ]
     },
     "execution_count": 8,
     "metadata": {},
     "output_type": "execute_result"
    }
   ],
   "source": [
    "orca.get_table('buildings').to_frame().head()"
   ]
  },
  {
   "cell_type": "code",
   "execution_count": null,
   "id": "wooden-appendix",
   "metadata": {},
   "outputs": [],
   "source": []
  },
  {
   "cell_type": "markdown",
   "id": "horizontal-defeat",
   "metadata": {},
   "source": [
    "### Creating a model step\n",
    "\n",
    "Now we can choose a [template](https://udst.github.io/urbansim_templates/model-steps.html) and use it to fit a model."
   ]
  },
  {
   "cell_type": "code",
   "execution_count": 9,
   "id": "collaborative-channels",
   "metadata": {},
   "outputs": [],
   "source": [
    "from urbansim_templates.models import OLSRegressionStep\n",
    "\n",
    "m = OLSRegressionStep()\n",
    "m.name = 'price-prediction'\n",
    "m.tables = 'buildings'\n",
    "m.model_expression = 'np.log1p(res_price_per_sqft) ~ non_residential_sqft>0 + year_built<1960'"
   ]
  },
  {
   "cell_type": "code",
   "execution_count": 10,
   "id": "domestic-messaging",
   "metadata": {},
   "outputs": [
    {
     "name": "stdout",
     "output_type": "stream",
     "text": [
      "                                 OLS Regression Results                                 \n",
      "========================================================================================\n",
      "Dep. Variable:     np.log1p(res_price_per_sqft)   R-squared:                       0.398\n",
      "Model:                                      OLS   Adj. R-squared:                  0.395\n",
      "Method:                           Least Squares   F-statistic:                     158.1\n",
      "Date:                          Tue, 09 Feb 2021   Prob (F-statistic):           1.93e-53\n",
      "Time:                                  12:02:09   Log-Likelihood:                -598.98\n",
      "No. Observations:                           482   AIC:                             1204.\n",
      "Df Residuals:                               479   BIC:                             1216.\n",
      "Df Model:                                     2                                         \n",
      "Covariance Type:                      nonrobust                                         \n",
      "====================================================================================================\n",
      "                                       coef    std err          t      P>|t|      [0.025      0.975]\n",
      "----------------------------------------------------------------------------------------------------\n",
      "Intercept                            5.5567      0.047    118.870      0.000       5.465       5.649\n",
      "non_residential_sqft > 0[T.True]    -5.6513      0.320    -17.642      0.000      -6.281      -5.022\n",
      "year_built < 1960[T.True]            0.2206      0.082      2.693      0.007       0.060       0.382\n",
      "==============================================================================\n",
      "Omnibus:                      511.938   Durbin-Watson:                   1.611\n",
      "Prob(Omnibus):                  0.000   Jarque-Bera (JB):            21647.939\n",
      "Skew:                          -4.895   Prob(JB):                         0.00\n",
      "Kurtosis:                      34.338   Cond. No.                         8.89\n",
      "==============================================================================\n",
      "\n",
      "Notes:\n",
      "[1] Standard Errors assume that the covariance matrix of the errors is correctly specified.\n"
     ]
    }
   ],
   "source": [
    "m.fit()"
   ]
  },
  {
   "cell_type": "code",
   "execution_count": null,
   "id": "sought-evanescence",
   "metadata": {},
   "outputs": [],
   "source": []
  },
  {
   "cell_type": "markdown",
   "id": "expected-overhead",
   "metadata": {},
   "source": [
    "### Registering the step\n",
    "\n",
    "Now we can \"register\" the step with ModelManager. This saves a copy to disk (in the `configs` folder), and passes a copy to Orca so it can be run as part of a sequence of other steps for validation or simulation."
   ]
  },
  {
   "cell_type": "code",
   "execution_count": 11,
   "id": "global-mistress",
   "metadata": {},
   "outputs": [
    {
     "name": "stdout",
     "output_type": "stream",
     "text": [
      "Saving 'price-prediction.yaml': /Users/maurer/Dropbox/Git-imac/udst/urbansim_templates/examples/configs\n",
      "Registering model step 'price-prediction'\n"
     ]
    }
   ],
   "source": [
    "modelmanager.register(m)"
   ]
  },
  {
   "cell_type": "code",
   "execution_count": null,
   "id": "hairy-binary",
   "metadata": {},
   "outputs": [],
   "source": []
  },
  {
   "cell_type": "markdown",
   "id": "polished-casting",
   "metadata": {},
   "source": [
    "### Making changes\n",
    "\n",
    "Previously registered steps can be retrieved, modified, and re-registered as needed."
   ]
  },
  {
   "cell_type": "code",
   "execution_count": 12,
   "id": "atmospheric-colorado",
   "metadata": {},
   "outputs": [
    {
     "data": {
      "text/plain": [
       "[{'name': 'price-prediction', 'template': 'OLSRegressionStep', 'tags': []}]"
      ]
     },
     "execution_count": 12,
     "metadata": {},
     "output_type": "execute_result"
    }
   ],
   "source": [
    "modelmanager.list_steps()"
   ]
  },
  {
   "cell_type": "code",
   "execution_count": 13,
   "id": "limited-wilson",
   "metadata": {},
   "outputs": [],
   "source": [
    "m2 = modelmanager.get_step('price-prediction')"
   ]
  },
  {
   "cell_type": "code",
   "execution_count": 14,
   "id": "solved-glass",
   "metadata": {},
   "outputs": [
    {
     "name": "stdout",
     "output_type": "stream",
     "text": [
      "Saving 'better-price-prediction.yaml': /Users/maurer/Dropbox/Git-imac/udst/urbansim_templates/examples/configs\n",
      "Registering model step 'better-price-prediction'\n"
     ]
    }
   ],
   "source": [
    "m2.name = 'better-price-prediction'\n",
    "# here you can edit the specification and re-fit, etc.\n",
    "\n",
    "modelmanager.register(m2)"
   ]
  },
  {
   "cell_type": "code",
   "execution_count": 15,
   "id": "secondary-baking",
   "metadata": {},
   "outputs": [
    {
     "name": "stdout",
     "output_type": "stream",
     "text": [
      "Removing 'better-price-prediction' and 'better-price-prediction.yaml'\n"
     ]
    }
   ],
   "source": [
    "modelmanager.remove_step('better-price-prediction')"
   ]
  },
  {
   "cell_type": "code",
   "execution_count": null,
   "id": "classical-attachment",
   "metadata": {},
   "outputs": [],
   "source": []
  },
  {
   "cell_type": "code",
   "execution_count": null,
   "id": "acoustic-insight",
   "metadata": {},
   "outputs": [],
   "source": []
  }
 ],
 "metadata": {
  "kernelspec": {
   "display_name": "Python [conda env:template-demo] *",
   "language": "python",
   "name": "conda-env-template-demo-py"
  },
  "language_info": {
   "codemirror_mode": {
    "name": "ipython",
    "version": 3
   },
   "file_extension": ".py",
   "mimetype": "text/x-python",
   "name": "python",
   "nbconvert_exporter": "python",
   "pygments_lexer": "ipython3",
   "version": "3.8.5"
  }
 },
 "nbformat": 4,
 "nbformat_minor": 5
}
