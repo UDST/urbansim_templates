{
 "cells": [
  {
   "cell_type": "code",
   "execution_count": 3,
   "metadata": {},
   "outputs": [],
   "source": [
    "import orca\n",
    "import numpy as np\n",
    "import pandas as pd\n",
    "\n",
    "\n",
    "from urbansim_templates import modelmanager\n",
    "from urbansim_templates.models.regression import RandomForestRegressionStep\n"
   ]
  },
  {
   "cell_type": "code",
   "execution_count": 4,
   "metadata": {},
   "outputs": [],
   "source": [
    "# load rental data\n",
    "rental = pd.read_csv('data\\\\rentals_with_nodes.csv')\n",
    "node_small = pd.read_csv('data\\\\nodessmall_vars.csv') \n",
    "node_walk = pd.read_csv('data\\\\nodeswalk_vars.csv') "
   ]
  },
  {
   "cell_type": "code",
   "execution_count": 5,
   "metadata": {},
   "outputs": [],
   "source": [
    "data = pd.merge(rental, node_small, left_on='node_id_small', right_on='osmid')\n",
    "data = pd.merge(data, node_walk, left_on='node_id_walk', right_on='osmid')\n"
   ]
  },
  {
   "cell_type": "code",
   "execution_count": 6,
   "metadata": {},
   "outputs": [],
   "source": [
    "# add columns\n",
    "data['log_rent_sqft'] = np.log(data.rent_sqft)\n",
    "data['log_units_500_walk'] = np.log(data.units_500_walk + 1)\n",
    "data['log_rich_500_walk'] = np.log(data.rich_500_walk + 1)"
   ]
  },
  {
   "cell_type": "code",
   "execution_count": 7,
   "metadata": {},
   "outputs": [
    {
     "data": {
      "text/plain": [
       "<orca.orca.DataFrameWrapper at 0x377eb38>"
      ]
     },
     "execution_count": 7,
     "metadata": {},
     "output_type": "execute_result"
    }
   ],
   "source": [
    "# register data in orca\n",
    "orca.add_table('rental_prices', data)"
   ]
  },
  {
   "cell_type": "code",
   "execution_count": 8,
   "metadata": {},
   "outputs": [
    {
     "name": "stdout",
     "output_type": "stream",
     "text": [
      "No yaml files found in path 'configs'\n"
     ]
    }
   ],
   "source": [
    "# create random forest step \n",
    "modelmanager.initialize()"
   ]
  },
  {
   "cell_type": "code",
   "execution_count": 9,
   "metadata": {},
   "outputs": [],
   "source": [
    "m = RandomForestRegressionStep()\n",
    "m.tables = 'rental_prices'"
   ]
  },
  {
   "cell_type": "code",
   "execution_count": 10,
   "metadata": {},
   "outputs": [],
   "source": [
    "# define model expression\n",
    "m.model_expression = 'log_rent_sqft ~ bedrooms + log_units_500_walk + log_rich_500_walk'\n",
    "    "
   ]
  },
  {
   "cell_type": "code",
   "execution_count": 11,
   "metadata": {},
   "outputs": [],
   "source": [
    "m.fit()"
   ]
  },
  {
   "cell_type": "code",
   "execution_count": 12,
   "metadata": {},
   "outputs": [
    {
     "data": {
      "text/plain": [
       "{'mean_cross_validation': 0.03182563086816382,\n",
       " 'mae_cross_validation': 0.10135065719788883}"
      ]
     },
     "execution_count": 12,
     "metadata": {},
     "output_type": "execute_result"
    }
   ],
   "source": [
    "# create cross validation metrics\n",
    "m.cross_validate_score()\n",
    "m.cv_metric"
   ]
  },
  {
   "cell_type": "code",
   "execution_count": 13,
   "metadata": {},
   "outputs": [
    {
     "data": {
      "text/plain": [
       "{'bedrooms': 0.2765170675043592,\n",
       " 'log_units_500_walk': 0.3175431100409288,\n",
       " 'log_rich_500_walk': 0.40593982245471205}"
      ]
     },
     "execution_count": 13,
     "metadata": {},
     "output_type": "execute_result"
    }
   ],
   "source": [
    "# feature importance to identify main explanatory variables\n",
    "m.importance"
   ]
  },
  {
   "cell_type": "code",
   "execution_count": 14,
   "metadata": {},
   "outputs": [],
   "source": [
    "# add more features\n",
    "data['log_singles_500_walk'] = np.log(data.singles_500_walk + 1)\n",
    "data['log_children_500_walk'] = np.log(data.children_500_walk + 1)"
   ]
  },
  {
   "cell_type": "code",
   "execution_count": 15,
   "metadata": {},
   "outputs": [],
   "source": [
    "m.model_expression = 'log_rent_sqft ~ bedrooms + log_units_500_walk + log_rich_500_walk + log_singles_500_walk + log_children_500_walk'"
   ]
  },
  {
   "cell_type": "code",
   "execution_count": 16,
   "metadata": {},
   "outputs": [
    {
     "data": {
      "text/plain": [
       "{'mean_cross_validation': 0.029222386766438384,\n",
       " 'mae_cross_validation': 0.09636885589556099}"
      ]
     },
     "execution_count": 16,
     "metadata": {},
     "output_type": "execute_result"
    }
   ],
   "source": [
    "# create cross validation metrics with additional variables\n",
    "m.cross_validate_score()\n",
    "m.cv_metric"
   ]
  },
  {
   "cell_type": "code",
   "execution_count": 17,
   "metadata": {},
   "outputs": [
    {
     "data": {
      "text/plain": [
       "{'bedrooms': 0.2512610450803349,\n",
       " 'log_units_500_walk': 0.11722934102167251,\n",
       " 'log_rich_500_walk': 0.22012426195932022,\n",
       " 'log_singles_500_walk': 0.2416436799256035,\n",
       " 'log_children_500_walk': 0.1697416720130688}"
      ]
     },
     "execution_count": 17,
     "metadata": {},
     "output_type": "execute_result"
    }
   ],
   "source": [
    "# features importances\n",
    "m.fit()\n",
    "m.importance"
   ]
  },
  {
   "cell_type": "code",
   "execution_count": 18,
   "metadata": {},
   "outputs": [],
   "source": [
    "m.name = 'random_forest_rental_prices'"
   ]
  },
  {
   "cell_type": "code",
   "execution_count": 19,
   "metadata": {},
   "outputs": [
    {
     "name": "stdout",
     "output_type": "stream",
     "text": [
      "Saving 'random_forest_rental_prices.yaml': C:\\Users\\Xavier\\Urbansim\\udst\\urbansim_templates_testing\\urbansim_templates\\urbansim_templates\\tests\\configs\n",
      "Registering model step 'random_forest_rental_prices'\n"
     ]
    }
   ],
   "source": [
    "modelmanager.register(m)"
   ]
  },
  {
   "cell_type": "code",
   "execution_count": null,
   "metadata": {},
   "outputs": [],
   "source": []
  }
 ],
 "metadata": {
  "kernelspec": {
   "display_name": "urbansim_templates",
   "language": "python",
   "name": "urbansim_templates"
  },
  "language_info": {
   "codemirror_mode": {
    "name": "ipython",
    "version": 3
   },
   "file_extension": ".py",
   "mimetype": "text/x-python",
   "name": "python",
   "nbconvert_exporter": "python",
   "pygments_lexer": "ipython3",
   "version": "3.6.6"
  }
 },
 "nbformat": 4,
 "nbformat_minor": 2
}
